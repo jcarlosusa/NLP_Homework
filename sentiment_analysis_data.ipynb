{
 "cells": [
  {
   "cell_type": "markdown",
   "metadata": {},
   "source": [
    "# Instructor Do: Getting Data for Sentiment Analysis"
   ]
  },
  {
   "cell_type": "code",
   "execution_count": 11,
   "metadata": {},
   "outputs": [
    {
     "data": {
      "text/plain": [
       "True"
      ]
     },
     "execution_count": 11,
     "metadata": {},
     "output_type": "execute_result"
    }
   ],
   "source": [
    "# Initial imports\n",
    "import os\n",
    "import pandas as pd\n",
    "from newsapi import NewsApiClient\n",
    "from dotenv import load_dotenv\n",
    "load_dotenv(\"example.env\")\n"
   ]
  },
  {
   "cell_type": "code",
   "execution_count": 15,
   "metadata": {},
   "outputs": [
    {
     "data": {
      "text/plain": [
       "'3d8dedd985df4614abe21c08d66f1f15'"
      ]
     },
     "execution_count": 15,
     "metadata": {},
     "output_type": "execute_result"
    }
   ],
   "source": [
    "# Reading the News API key enviroment variable\n",
    "api_key = os.getenv(\"news_api\")\n",
    "api_key\n"
   ]
  },
  {
   "cell_type": "code",
   "execution_count": 13,
   "metadata": {},
   "outputs": [],
   "source": [
    "# Create a newsapi client\n",
    "newsapi = NewsApiClient(api_key=api_key)\n",
    "\n"
   ]
  },
  {
   "cell_type": "code",
   "execution_count": 14,
   "metadata": {},
   "outputs": [
    {
     "data": {
      "text/plain": [
       "{'status': 'ok', 'totalResults': 0, 'articles': []}"
      ]
     },
     "execution_count": 14,
     "metadata": {},
     "output_type": "execute_result"
    }
   ],
   "source": [
    "# Fetch top news articles about oil\n",
    "bitcoin_headlines = newsapi.get_top_headlines(q=\"Bitcoin\", language=\"en\", country=\"us\")\n",
    "bitcoin_headlines\n",
    "\n"
   ]
  },
  {
   "cell_type": "code",
   "execution_count": 5,
   "metadata": {},
   "outputs": [
    {
     "name": "stdout",
     "output_type": "stream",
     "text": [
      "Total articles about oil: 0\n"
     ]
    },
    {
     "ename": "IndexError",
     "evalue": "list index out of range",
     "output_type": "error",
     "traceback": [
      "\u001b[0;31m---------------------------------------------------------------------------\u001b[0m",
      "\u001b[0;31mIndexError\u001b[0m                                Traceback (most recent call last)",
      "\u001b[0;32m<ipython-input-5-5e9cc91fda7d>\u001b[0m in \u001b[0;36m<module>\u001b[0;34m\u001b[0m\n\u001b[1;32m      3\u001b[0m \u001b[0;34m\u001b[0m\u001b[0m\n\u001b[1;32m      4\u001b[0m \u001b[0;31m# Show sample article\u001b[0m\u001b[0;34m\u001b[0m\u001b[0;34m\u001b[0m\u001b[0;34m\u001b[0m\u001b[0m\n\u001b[0;32m----> 5\u001b[0;31m \u001b[0moil_headlines\u001b[0m\u001b[0;34m[\u001b[0m\u001b[0;34m\"articles\"\u001b[0m\u001b[0;34m]\u001b[0m\u001b[0;34m[\u001b[0m\u001b[0;36m0\u001b[0m\u001b[0;34m]\u001b[0m\u001b[0;34m\u001b[0m\u001b[0;34m\u001b[0m\u001b[0m\n\u001b[0m\u001b[1;32m      6\u001b[0m \u001b[0;34m\u001b[0m\u001b[0m\n",
      "\u001b[0;31mIndexError\u001b[0m: list index out of range"
     ]
    }
   ],
   "source": [
    "# Print total articles\n",
    "print(f\"Total articles about oil: {oil_headlines['totalResults']}\")\n",
    "\n",
    "# Show sample article\n",
    "oil_headlines[\"articles\"][0]\n",
    "\n"
   ]
  },
  {
   "cell_type": "code",
   "execution_count": 6,
   "metadata": {},
   "outputs": [
    {
     "data": {
      "text/html": [
       "<div>\n",
       "<style scoped>\n",
       "    .dataframe tbody tr th:only-of-type {\n",
       "        vertical-align: middle;\n",
       "    }\n",
       "\n",
       "    .dataframe tbody tr th {\n",
       "        vertical-align: top;\n",
       "    }\n",
       "\n",
       "    .dataframe thead th {\n",
       "        text-align: right;\n",
       "    }\n",
       "</style>\n",
       "<table border=\"1\" class=\"dataframe\">\n",
       "  <thead>\n",
       "    <tr style=\"text-align: right;\">\n",
       "      <th></th>\n",
       "    </tr>\n",
       "  </thead>\n",
       "  <tbody>\n",
       "  </tbody>\n",
       "</table>\n",
       "</div>"
      ],
      "text/plain": [
       "Empty DataFrame\n",
       "Columns: []\n",
       "Index: []"
      ]
     },
     "execution_count": 6,
     "metadata": {},
     "output_type": "execute_result"
    }
   ],
   "source": [
    "# Transform the response dictionary to a DataFrame\n",
    "oil_df = pd.DataFrame.from_dict(oil_headlines[\"articles\"])\n",
    "\n",
    "oil_df.head()\n",
    "\n"
   ]
  },
  {
   "cell_type": "code",
   "execution_count": 7,
   "metadata": {},
   "outputs": [
    {
     "name": "stdout",
     "output_type": "stream",
     "text": [
      "Total articles about Facebook Libra: 3733\n"
     ]
    },
    {
     "data": {
      "text/plain": [
       "{'source': {'id': 'techcrunch', 'name': 'TechCrunch'},\n",
       " 'author': 'Romain Dillet',\n",
       " 'title': 'What is the Libra Association going to do, really?',\n",
       " 'description': 'When Facebook unveiled Libra a few days ago, the company also announced the Libra Association, a not-for-profit that will oversee all things Libra. Facebook wants to make sure that everyone is aware that Libra was created by Facebook but isn’t controlled by F…',\n",
       " 'url': 'http://techcrunch.com/2019/06/26/what-is-the-libra-association-going-to-do-really/',\n",
       " 'urlToImage': 'https://techcrunch.com/wp-content/uploads/2019/06/GettyImages-1146087387.jpg?w=590',\n",
       " 'publishedAt': '2019-06-26T17:26:16Z',\n",
       " 'content': 'When Facebook unveiledLibra a few days ago, the company also announced the Libra Association, a not-for-profit that will oversee all things Libra. Facebook wants to make sure that everyone is aware that Libra was created by Facebook but isnt controlled by Fac… [+2026 chars]'}"
      ]
     },
     "execution_count": 7,
     "metadata": {},
     "output_type": "execute_result"
    }
   ],
   "source": [
    "# Fetch all the news about Facebook Libra\n",
    "libra_headlines = newsapi.get_everything(\n",
    "    q=\"facebook libra\", language=\"en\", sort_by=\"relevancy\"\n",
    ")\n",
    "\n",
    "# Print total articles\n",
    "print(f\"Total articles about Facebook Libra: {libra_headlines['totalResults']}\")\n",
    "\n",
    "# Show sample article\n",
    "libra_headlines[\"articles\"][0]\n",
    "\n"
   ]
  },
  {
   "cell_type": "code",
   "execution_count": 8,
   "metadata": {},
   "outputs": [
    {
     "data": {
      "text/html": [
       "<div>\n",
       "<style scoped>\n",
       "    .dataframe tbody tr th:only-of-type {\n",
       "        vertical-align: middle;\n",
       "    }\n",
       "\n",
       "    .dataframe tbody tr th {\n",
       "        vertical-align: top;\n",
       "    }\n",
       "\n",
       "    .dataframe thead th {\n",
       "        text-align: right;\n",
       "    }\n",
       "</style>\n",
       "<table border=\"1\" class=\"dataframe\">\n",
       "  <thead>\n",
       "    <tr style=\"text-align: right;\">\n",
       "      <th></th>\n",
       "      <th>author</th>\n",
       "      <th>content</th>\n",
       "      <th>description</th>\n",
       "      <th>publishedAt</th>\n",
       "      <th>source</th>\n",
       "      <th>title</th>\n",
       "      <th>url</th>\n",
       "      <th>urlToImage</th>\n",
       "    </tr>\n",
       "  </thead>\n",
       "  <tbody>\n",
       "    <tr>\n",
       "      <th>0</th>\n",
       "      <td>Romain Dillet</td>\n",
       "      <td>When Facebook unveiledLibra a few days ago, th...</td>\n",
       "      <td>When Facebook unveiled Libra a few days ago, t...</td>\n",
       "      <td>2019-06-26T17:26:16Z</td>\n",
       "      <td>{'id': 'techcrunch', 'name': 'TechCrunch'}</td>\n",
       "      <td>What is the Libra Association going to do, rea...</td>\n",
       "      <td>http://techcrunch.com/2019/06/26/what-is-the-l...</td>\n",
       "      <td>https://techcrunch.com/wp-content/uploads/2019...</td>\n",
       "    </tr>\n",
       "    <tr>\n",
       "      <th>1</th>\n",
       "      <td>Nick Douglas</td>\n",
       "      <td>On Tuesday Facebook announced Libra, a cryptoc...</td>\n",
       "      <td>On Tuesday Facebook announced Libra, a cryptoc...</td>\n",
       "      <td>2019-06-19T13:49:00Z</td>\n",
       "      <td>{'id': None, 'name': 'Lifehacker.com'}</td>\n",
       "      <td>Facebook's New Libra Coin: How Does It Work, a...</td>\n",
       "      <td>https://lifehacker.com/facebooks-new-libra-coi...</td>\n",
       "      <td>https://i.kinja-img.com/gawker-media/image/upl...</td>\n",
       "    </tr>\n",
       "    <tr>\n",
       "      <th>2</th>\n",
       "      <td>Josh Constine</td>\n",
       "      <td>The $10 million entry fee to join the Facebook...</td>\n",
       "      <td>The $10 million entry fee to join the Facebook...</td>\n",
       "      <td>2019-07-03T19:29:54Z</td>\n",
       "      <td>{'id': 'techcrunch', 'name': 'TechCrunch'}</td>\n",
       "      <td>We still don’t know how much of Libra Facebook...</td>\n",
       "      <td>http://techcrunch.com/2019/07/03/facebook-libr...</td>\n",
       "      <td>https://techcrunch.com/wp-content/uploads/2019...</td>\n",
       "    </tr>\n",
       "    <tr>\n",
       "      <th>3</th>\n",
       "      <td>Jon Fingas</td>\n",
       "      <td>He added that Facebook is treating Libra as a ...</td>\n",
       "      <td>Facebook is determined to reassure officials t...</td>\n",
       "      <td>2019-07-15T17:14:00Z</td>\n",
       "      <td>{'id': 'engadget', 'name': 'Engadget'}</td>\n",
       "      <td>Facebook won't make Libra available until regu...</td>\n",
       "      <td>https://www.engadget.com/2019/07/15/facebook-t...</td>\n",
       "      <td>https://o.aolcdn.com/images/dims?thumbnail=120...</td>\n",
       "    </tr>\n",
       "    <tr>\n",
       "      <th>4</th>\n",
       "      <td>Steve Dent</td>\n",
       "      <td>\"We write to request that Facebook and its par...</td>\n",
       "      <td>US lawmakers have asked Facebook to \"immediate...</td>\n",
       "      <td>2019-07-03T09:31:00Z</td>\n",
       "      <td>{'id': 'engadget', 'name': 'Engadget'}</td>\n",
       "      <td>US lawmakers tell Facebook to halt the launch ...</td>\n",
       "      <td>https://www.engadget.com/2019/07/03/us-lawmake...</td>\n",
       "      <td>https://o.aolcdn.com/images/dims?thumbnail=120...</td>\n",
       "    </tr>\n",
       "  </tbody>\n",
       "</table>\n",
       "</div>"
      ],
      "text/plain": [
       "          author                                            content  \\\n",
       "0  Romain Dillet  When Facebook unveiledLibra a few days ago, th...   \n",
       "1   Nick Douglas  On Tuesday Facebook announced Libra, a cryptoc...   \n",
       "2  Josh Constine  The $10 million entry fee to join the Facebook...   \n",
       "3     Jon Fingas  He added that Facebook is treating Libra as a ...   \n",
       "4     Steve Dent  \"We write to request that Facebook and its par...   \n",
       "\n",
       "                                         description           publishedAt  \\\n",
       "0  When Facebook unveiled Libra a few days ago, t...  2019-06-26T17:26:16Z   \n",
       "1  On Tuesday Facebook announced Libra, a cryptoc...  2019-06-19T13:49:00Z   \n",
       "2  The $10 million entry fee to join the Facebook...  2019-07-03T19:29:54Z   \n",
       "3  Facebook is determined to reassure officials t...  2019-07-15T17:14:00Z   \n",
       "4  US lawmakers have asked Facebook to \"immediate...  2019-07-03T09:31:00Z   \n",
       "\n",
       "                                       source  \\\n",
       "0  {'id': 'techcrunch', 'name': 'TechCrunch'}   \n",
       "1      {'id': None, 'name': 'Lifehacker.com'}   \n",
       "2  {'id': 'techcrunch', 'name': 'TechCrunch'}   \n",
       "3      {'id': 'engadget', 'name': 'Engadget'}   \n",
       "4      {'id': 'engadget', 'name': 'Engadget'}   \n",
       "\n",
       "                                               title  \\\n",
       "0  What is the Libra Association going to do, rea...   \n",
       "1  Facebook's New Libra Coin: How Does It Work, a...   \n",
       "2  We still don’t know how much of Libra Facebook...   \n",
       "3  Facebook won't make Libra available until regu...   \n",
       "4  US lawmakers tell Facebook to halt the launch ...   \n",
       "\n",
       "                                                 url  \\\n",
       "0  http://techcrunch.com/2019/06/26/what-is-the-l...   \n",
       "1  https://lifehacker.com/facebooks-new-libra-coi...   \n",
       "2  http://techcrunch.com/2019/07/03/facebook-libr...   \n",
       "3  https://www.engadget.com/2019/07/15/facebook-t...   \n",
       "4  https://www.engadget.com/2019/07/03/us-lawmake...   \n",
       "\n",
       "                                          urlToImage  \n",
       "0  https://techcrunch.com/wp-content/uploads/2019...  \n",
       "1  https://i.kinja-img.com/gawker-media/image/upl...  \n",
       "2  https://techcrunch.com/wp-content/uploads/2019...  \n",
       "3  https://o.aolcdn.com/images/dims?thumbnail=120...  \n",
       "4  https://o.aolcdn.com/images/dims?thumbnail=120...  "
      ]
     },
     "execution_count": 8,
     "metadata": {},
     "output_type": "execute_result"
    }
   ],
   "source": [
    "# Transform the response dictionary to a DataFrame\n",
    "libra_df = pd.DataFrame.from_dict(libra_headlines[\"articles\"])\n",
    "\n",
    "libra_df.head()\n"
   ]
  }
 ],
 "metadata": {
  "file_extension": ".py",
  "kernelspec": {
   "display_name": "Python 3",
   "language": "python",
   "name": "python3"
  },
  "language_info": {
   "codemirror_mode": {
    "name": "ipython",
    "version": 3
   },
   "file_extension": ".py",
   "mimetype": "text/x-python",
   "name": "python",
   "nbconvert_exporter": "python",
   "pygments_lexer": "ipython3",
   "version": "3.8.5"
  },
  "mimetype": "text/x-python",
  "name": "python",
  "npconvert_exporter": "python",
  "pygments_lexer": "ipython3",
  "version": 3
 },
 "nbformat": 4,
 "nbformat_minor": 4
}
